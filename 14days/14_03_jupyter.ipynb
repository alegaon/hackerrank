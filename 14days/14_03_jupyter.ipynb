{
 "cells": [
  {
   "cell_type": "code",
   "execution_count": 21,
   "metadata": {},
   "outputs": [
    {
     "name": "stdout",
     "output_type": "stream",
     "text": [
      "4\n"
     ]
    }
   ],
   "source": [
    "\n",
    "def method():\n",
    "    f,c = 0, 0\n",
    "    resultado = 0\n",
    "\n",
    "    a = [1,2,5]\n",
    "    for i in a:\n",
    "        if resultado < (a[1+c] - a[0+f]):\n",
    "            resultado = a[1+c] - a[0+f]\n",
    "            c+=1\n",
    "            if c == (len(a)-1):\n",
    "                f+=1\n",
    "                c-=1\n",
    "        else:\n",
    "            return resultado\n",
    "\n",
    "print(method())\n"
   ]
  },
  {
   "cell_type": "code",
   "execution_count": 11,
   "metadata": {},
   "outputs": [
    {
     "name": "stdout",
     "output_type": "stream",
     "text": [
      "esto es a: [1, 2, 5]\n",
      "[1, 4, 3]\n",
      "<bound method Difference.maximumDifference of <class '__main__.Difference'>>\n"
     ]
    }
   ],
   "source": [
    "class Difference:\n",
    "    def __init__(self, a):\n",
    "        self.__elements = a\n",
    "        print(f\"esto es a: {a}\")\n",
    "\n",
    "\t# Add your code here\n",
    "    # write method computeDefference\n",
    "     # https://www.youtube.com/watch?v=RFGXxnEAejo\n",
    "    def computeDifference(self):\n",
    "        # toma el array \n",
    "        # array = a\n",
    "        # buscar todaas las diferencias\n",
    "        f,c = 0, 0\n",
    "        listado_diferencias = []\n",
    "\n",
    "        # a = [1,2,5]\n",
    "        for i in a:\n",
    "            # if resultado < (a[1+c] - a[0+f]):\n",
    "                listado_diferencias.append(a[1+c] - a[0+f])\n",
    "                c+=1\n",
    "                if c == (len(a)-1):\n",
    "                    f+=1\n",
    "                    c-=1\n",
    "            # else:\n",
    "              #   return resultado\n",
    "        print(listado_diferencias)\n",
    "        return listado_diferencias\n",
    "\n",
    "        # ir guardando los resultados\n",
    "    # devolver el mas alto\n",
    "    @classmethod\n",
    "    def maximumDifference(sefl):\n",
    "        print(\"lala\")\n",
    "        \"\"\"\n",
    "        b = cls.computeDifference().sort()\n",
    "        print(b)\n",
    "        g = b[len(b)-1]\n",
    "        print(g)\n",
    "        return g \n",
    "     \"\"\"\n",
    "\n",
    "\n",
    "# End of Difference class\n",
    "\n",
    "_ = input()\n",
    "a = [int(e) for e in input().split(' ')]\n",
    "\n",
    "d = Difference(a)\n",
    "\n",
    "d.computeDifference()\n",
    "\n",
    "print(d.maximumDifference)\n",
    "\n"
   ]
  },
  {
   "cell_type": "code",
   "execution_count": null,
   "metadata": {},
   "outputs": [],
   "source": []
  }
 ],
 "metadata": {
  "interpreter": {
   "hash": "916dbcbb3f70747c44a77c7bcd40155683ae19c65e1c03b4aa3499c5328201f1"
  },
  "kernelspec": {
   "display_name": "Python 3.8.10 64-bit",
   "language": "python",
   "name": "python3"
  },
  "language_info": {
   "codemirror_mode": {
    "name": "ipython",
    "version": 3
   },
   "file_extension": ".py",
   "mimetype": "text/x-python",
   "name": "python",
   "nbconvert_exporter": "python",
   "pygments_lexer": "ipython3",
   "version": "3.8.10"
  },
  "orig_nbformat": 4
 },
 "nbformat": 4,
 "nbformat_minor": 2
}
